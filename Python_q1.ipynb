{
 "cells": [
  {
   "cell_type": "code",
   "execution_count": 42,
   "metadata": {},
   "outputs": [
    {
     "name": "stdout",
     "output_type": "stream",
     "text": [
      "5\n"
     ]
    }
   ],
   "source": [
    "str=\"Hello Hello Hello Hello come come , come man come here whats up? why you didnt come here yesterday?\"\n",
    "l=str.split()\n",
    "n={}\n",
    "value_count=0\n",
    "for i in l:\n",
    "    try:\n",
    "        value_count=n.pop(i)+1\n",
    "    except Exception as e:\n",
    "        value_count=1\n",
    "    n[i]=value_count\n",
    "mx_number=0\n",
    "mx_word=\"\"\n",
    "for i in n:\n",
    "    if n[i]>mx_number:\n",
    "        mx_number=n[i]\n",
    "        mx_word=i\n",
    "print(mx_number)       "
   ]
  },
  {
   "cell_type": "code",
   "execution_count": null,
   "metadata": {},
   "outputs": [],
   "source": [
    "        "
   ]
  }
 ],
 "metadata": {
  "kernelspec": {
   "display_name": "costingmodule",
   "language": "python",
   "name": "python3"
  },
  "language_info": {
   "codemirror_mode": {
    "name": "ipython",
    "version": 3
   },
   "file_extension": ".py",
   "mimetype": "text/x-python",
   "name": "python",
   "nbconvert_exporter": "python",
   "pygments_lexer": "ipython3",
   "version": "3.10.11"
  },
  "orig_nbformat": 4
 },
 "nbformat": 4,
 "nbformat_minor": 2
}
